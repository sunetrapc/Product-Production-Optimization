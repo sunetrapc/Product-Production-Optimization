{
 "cells": [
  {
   "cell_type": "code",
   "execution_count": 2,
   "id": "1fc8ec5a-8732-411c-95c3-b25efec6cf47",
   "metadata": {},
   "outputs": [
    {
     "name": "stdout",
     "output_type": "stream",
     "text": [
      "Collecting gurobipy\n",
      "  Downloading gurobipy-12.0.0-cp312-cp312-win_amd64.whl.metadata (16 kB)\n",
      "Downloading gurobipy-12.0.0-cp312-cp312-win_amd64.whl (11.1 MB)\n",
      "   ---------------------------------------- 0.0/11.1 MB ? eta -:--:--\n",
      "   ---------- ----------------------------- 2.9/11.1 MB 21.0 MB/s eta 0:00:01\n",
      "   ----------------- ---------------------- 5.0/11.1 MB 18.9 MB/s eta 0:00:01\n",
      "   ---------------------------------------  11.0/11.1 MB 18.6 MB/s eta 0:00:01\n",
      "   ---------------------------------------- 11.1/11.1 MB 17.3 MB/s eta 0:00:00\n",
      "Installing collected packages: gurobipy\n",
      "Successfully installed gurobipy-12.0.0\n",
      "Note: you may need to restart the kernel to use updated packages.\n"
     ]
    }
   ],
   "source": [
    "pip install gurobipy\n"
   ]
  },
  {
   "cell_type": "code",
   "execution_count": 3,
   "id": "332562dd-5005-4752-8913-2ed1aea0595e",
   "metadata": {},
   "outputs": [
    {
     "name": "stdout",
     "output_type": "stream",
     "text": [
      "Restricted license - for non-production use only - expires 2026-11-23\n",
      "Gurobi Optimizer version 12.0.0 build v12.0.0rc1 (win64 - Windows 10.0 (19045.2))\n",
      "\n",
      "CPU model: Intel(R) Core(TM) i7-4770 CPU @ 3.40GHz, instruction set [SSE2|AVX|AVX2]\n",
      "Thread count: 4 physical cores, 8 logical processors, using up to 8 threads\n",
      "\n",
      "Optimize a model with 4 rows, 3 columns and 8 nonzeros\n",
      "Model fingerprint: 0x0e8d5b74\n",
      "Coefficient statistics:\n",
      "  Matrix range     [1e+00, 9e+00]\n",
      "  Objective range  [2e+01, 5e+01]\n",
      "  Bounds range     [0e+00, 0e+00]\n",
      "  RHS range        [2e+01, 5e+02]\n",
      "Presolve removed 2 rows and 1 columns\n",
      "Presolve time: 0.01s\n",
      "Presolved: 2 rows, 2 columns, 4 nonzeros\n",
      "\n",
      "Iteration    Objective       Primal Inf.    Dual Inf.      Time\n",
      "       0    3.1666667e+03   2.289454e+01   0.000000e+00      0s\n",
      "       2    2.9047619e+03   0.000000e+00   0.000000e+00      0s\n",
      "\n",
      "Solved in 2 iterations and 0.01 seconds (0.00 work units)\n",
      "Optimal objective  2.904761905e+03\n",
      "product1 26.19047619047619\n",
      "product2 54.76190476190476\n",
      "product3 20.0\n",
      "Objective: 2904.7619047619046\n"
     ]
    }
   ],
   "source": [
    "import gurobipy as gpy\n",
    "\n",
    "\n",
    "model = gpy.Model('Product_Production') \n",
    "model.ModelSense = gpy.GRB.MAXIMIZE\n",
    "\n",
    "product1 = model.addVar(vtype=gpy.GRB.CONTINUOUS, name=\"product1\")\n",
    "product2 = model.addVar(vtype=gpy.GRB.CONTINUOUS, name=\"product2\")\n",
    "product3 = model.addVar(vtype=gpy.GRB.CONTINUOUS, name=\"product3\")\n",
    "\n",
    "\n",
    "model.setObjective(50*product1 + 20*product2 + 25*product3, gpy.GRB.MAXIMIZE)\n",
    "\n",
    "\n",
    "model.addConstr(9*product1 + 3*product2 + 5*product3 <= 500, \"machine_constraint\")\n",
    "model.addConstr(5*product1 + 4*product2 <= 350, \"lathe_constraint\")\n",
    "model.addConstr(3*product1 + 2*product3 <= 150, \"grinder_constraint\")\n",
    "model.addConstr(product3 == 20, \"custom_units_constraint\")\n",
    "\n",
    "model.optimize()\n",
    "\n",
    "for v in model.getVars():\n",
    "    print(v.varName, v.x)\n",
    "\n",
    "print('Objective:', model.objVal)"
   ]
  },
  {
   "cell_type": "code",
   "execution_count": 8,
   "id": "da4063ed-7467-4900-9b2c-cb1c1a4b8458",
   "metadata": {},
   "outputs": [
    {
     "name": "stdout",
     "output_type": "stream",
     "text": [
      "Product Quantities:\n",
      "\n",
      "Product 1: The factory should produce 26.19 units of Product 1.\n",
      "Product 2: The factory should produce 54.76 units of Product 2.\n",
      "Product 3: The factory must produce 20 units of Product 3 (this was a fixed constraint).\n"
     ]
    }
   ],
   "source": [
    "print(\"Product Quantities:\\n\")\n",
    "print(f\"Product 1: The factory should produce {product1.x:.2f} units of Product 1.\")\n",
    "print(f\"Product 2: The factory should produce {product2.x:.2f} units of Product 2.\")\n",
    "print(f\"Product 3: The factory must produce {product3.x:.0f} units of Product 3 (this was a fixed constraint).\")\n"
   ]
  },
  {
   "cell_type": "code",
   "execution_count": 12,
   "id": "b8ce7e95-00b1-4641-8519-1163e90d4794",
   "metadata": {},
   "outputs": [
    {
     "data": {
      "image/png": "[encoded data removed]",
      "text/plain": [
       "<Figure size 800x600 with 1 Axes>"
      ]
     },
     "metadata": {},
     "output_type": "display_data"
    }
   ],
   "source": [
    "import matplotlib.pyplot as plt\n",
    "# Visualization of the production plan\n",
    "product_names = ['Product 1', 'Product 2', 'Product 3']\n",
    "production_quantities = [product1.x, product2.x, product3.x]\n",
    "\n",
    "# Plotting the production quantities\n",
    "plt.figure(figsize=(8, 6))\n",
    "plt.bar(product_names, production_quantities, color=['indianred', 'khaki', 'darkseagreen'])\n",
    "plt.title('Optimal Product Production Quantities')\n",
    "plt.xlabel('Products')\n",
    "plt.ylabel('Production Quantity')\n",
    "plt.ylim(0, max(production_quantities) + 5) \n",
    "plt.show()"
   ]
  },
  {
   "cell_type": "code",
   "execution_count": null,
   "id": "70ee20fe-a56f-4bb0-96ae-66d0cfb6abf8",
   "metadata": {},
   "outputs": [],
   "source": []
  }
 ],
 "metadata": {
  "kernelspec": {
   "display_name": "Python 3 (ipykernel)",
   "language": "python",
   "name": "python3"
  },
  "language_info": {
   "codemirror_mode": {
    "name": "ipython",
    "version": 3
   },
   "file_extension": ".py",
   "mimetype": "text/x-python",
   "name": "python",
   "nbconvert_exporter": "python",
   "pygments_lexer": "ipython3",
   "version": "3.12.7"
  }
 },
 "nbformat": 4,
 "nbformat_minor": 5
}
